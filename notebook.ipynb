{
 "cells": [
  {
   "cell_type": "markdown",
   "metadata": {},
   "source": [
    "Сначала нужно посмотреть, какие датасеты мы можем считать (тут есть разные форматы такие как csv, xlsx, ods), а далее посмотрим что у них внутри"
   ]
  },
  {
   "cell_type": "code",
   "execution_count": 23,
   "metadata": {},
   "outputs": [],
   "source": [
    "import pandas as pd\n",
    "import os \n",
    "\n",
    "with open(\"info/tables_info.txt\", \"w\") as fout:\n",
    "    for table in os.listdir(\"./Проект\"):\n",
    "        df = None\n",
    "\n",
    "        if table.endswith(\"csv\"):\n",
    "            df = pd.read_csv(\"Проект/\" + table, on_bad_lines='skip', low_memory=False)\n",
    "        elif table.endswith(\"xlsx\"):\n",
    "            try:\n",
    "                df = pd.read_excel(\"Проект/\" + table)\n",
    "            except:\n",
    "                print(\"[Excel not parsed]\", table)\n",
    "        elif table.endswith(\"ods\"):\n",
    "            try:\n",
    "                df = pd.read_excel(\"Проект/\" + table, engine='odf')\n",
    "            except:\n",
    "                print(\"[Ods not parsed]\", table)\n",
    "        else:\n",
    "            print(\"[Unknown]\", table) \n",
    "\n",
    "        if df is not None:\n",
    "            fout.write(table + \"\\n\")"
   ]
  },
  {
   "cell_type": "markdown",
   "metadata": {},
   "source": [
    "Смогли считать все датасеты, теперь нужно посмотреть, что у них внутри"
   ]
  },
  {
   "cell_type": "code",
   "execution_count": 24,
   "metadata": {},
   "outputs": [],
   "source": [
    "with open(\"info/columns_info.txt\", \"w\") as fout:\n",
    "    for table in os.listdir(\"./Проект\"):\n",
    "        df = None\n",
    "\n",
    "        if table.endswith(\"csv\"):\n",
    "            df = pd.read_csv(\"Проект/\" + table, on_bad_lines='skip', low_memory=False)\n",
    "        elif table.endswith(\"xlsx\"):\n",
    "            try:\n",
    "                df = pd.read_excel(\"Проект/\" + table)\n",
    "            except:\n",
    "                print(\"[Excel not parsed]\", table)\n",
    "        elif table.endswith(\"ods\"):\n",
    "            try:\n",
    "                df = pd.read_excel(\"Проект/\" + table, engine='odf')\n",
    "            except:\n",
    "                print(\"[Ods not parsed]\", table)\n",
    "        else:\n",
    "            print(\"[Unknown]\", table) \n",
    "\n",
    "        if df is not None:\n",
    "            fout.write(table + \"\\n\")\n",
    "            fout.write(f\"Shape: {df.shape}\" + \"\\n\")\n",
    "            cols = [col for col in list(df.columns.values) if \"Unnamed\" not in col.strip()]\n",
    "            fout.write(f\"Columns: \\n{\"\\n\".join(cols)}\\n\\n\")\n",
    "            fout.write(\"#\" * 100 + \"\\n\\n\")\n"
   ]
  },
  {
   "cell_type": "markdown",
   "metadata": {},
   "source": [
    "Смотрим в файл columns_info.txt, чтобы понять, какие колонки у нас есть, в основном это информация о студенте (курс, группа, факультет, фио, почта) и его результаты (оценки, тесты, сдал/не сдал, баллы, проценты, перцентили и т.д.)"
   ]
  },
  {
   "cell_type": "markdown",
   "metadata": {},
   "source": [
    "Теперь нужно сджойнить все данные в одну таблицу и работать уже с ней."
   ]
  },
  {
   "cell_type": "code",
   "execution_count": 150,
   "metadata": {},
   "outputs": [
    {
     "name": "stdout",
     "output_type": "stream",
     "text": [
      "23\n"
     ]
    }
   ],
   "source": [
    "dfs = []\n",
    "dfs_names = []\n",
    "\n",
    "for table in os.listdir(\"./Проект\"):\n",
    "        df = None\n",
    "\n",
    "        if table.endswith(\"csv\"):\n",
    "            df = pd.read_csv(\"Проект/\" + table, on_bad_lines='skip', low_memory=False)\n",
    "        elif table.endswith(\"xlsx\"):\n",
    "            try:\n",
    "                df = pd.read_excel(\"Проект/\" + table)\n",
    "            except:\n",
    "                print(\"[Excel not parsed]\", table)\n",
    "        elif table.endswith(\"ods\"):\n",
    "            try:\n",
    "                df = pd.read_excel(\"Проект/\" + table, engine='odf')\n",
    "            except:\n",
    "                print(\"[Ods not parsed]\", table)\n",
    "        else:\n",
    "            print(\"[Unknown]\", table) \n",
    "\n",
    "        if df is not None:\n",
    "            dfs.append(df)\n",
    "            dfs_names.append(table)\n",
    "\n",
    "print(len(dfs))"
   ]
  },
  {
   "cell_type": "markdown",
   "metadata": {},
   "source": [
    "Теперь все таблицы лежат в списке dfs, их имена в dfs_names"
   ]
  },
  {
   "cell_type": "markdown",
   "metadata": {},
   "source": [
    "Теперь нам нужен уникальный id для человека, брать ФИО мы не можем, так как будут коллизии, поэтому будем использовать почту (при коллизии к почте добавляется номер человека), при этом такой выбор согласуется с логикой, ведь было бы странно если бы вуз раздавал одинаковые почты в своем домене. Теперь нужно найти все почты и далее приджойнить все колонки из таблиц."
   ]
  },
  {
   "cell_type": "markdown",
   "metadata": {},
   "source": [
    "В Таблице НЭ_с_2021я таблица для дэшборда.xlsx есть дубликаты почт, потому что это результаты за несколько лет обучения, поэтому нужно объединить их под одну почту"
   ]
  },
  {
   "cell_type": "code",
   "execution_count": 151,
   "metadata": {},
   "outputs": [
    {
     "data": {
      "text/plain": [
       "array(['ФИО', 'Адрес электронной почты', 'Филиал', 'Факультет', 'ОП',\n",
       "       'Группа', 'Курс', 'ОЦЕНКА', 'НЭ', 'Год', 'Поток', 'Онлайн-курс',\n",
       "       'ИУС', 'Демо-версия', 'Сдал/не сдал', 'Сдал-не-сдал',\n",
       "       'Больше половины онлайн-курса', 'Оценка за онлайн курс', 'Чек'],\n",
       "      dtype=object)"
      ]
     },
     "execution_count": 151,
     "metadata": {},
     "output_type": "execute_result"
    }
   ],
   "source": [
    "dfs[-1].columns.values"
   ]
  },
  {
   "cell_type": "code",
   "execution_count": null,
   "metadata": {},
   "outputs": [
    {
     "ename": "KeyError",
     "evalue": "'ОЦЕНКА'",
     "output_type": "error",
     "traceback": [
      "\u001b[0;31m---------------------------------------------------------------------------\u001b[0m",
      "\u001b[0;31mKeyError\u001b[0m                                  Traceback (most recent call last)",
      "File \u001b[0;32m/opt/homebrew/lib/python3.13/site-packages/pandas/core/indexes/base.py:3805\u001b[0m, in \u001b[0;36mIndex.get_loc\u001b[0;34m(self, key)\u001b[0m\n\u001b[1;32m   3804\u001b[0m \u001b[38;5;28;01mtry\u001b[39;00m:\n\u001b[0;32m-> 3805\u001b[0m     \u001b[38;5;28;01mreturn\u001b[39;00m \u001b[38;5;28;43mself\u001b[39;49m\u001b[38;5;241;43m.\u001b[39;49m\u001b[43m_engine\u001b[49m\u001b[38;5;241;43m.\u001b[39;49m\u001b[43mget_loc\u001b[49m\u001b[43m(\u001b[49m\u001b[43mcasted_key\u001b[49m\u001b[43m)\u001b[49m\n\u001b[1;32m   3806\u001b[0m \u001b[38;5;28;01mexcept\u001b[39;00m \u001b[38;5;167;01mKeyError\u001b[39;00m \u001b[38;5;28;01mas\u001b[39;00m err:\n",
      "File \u001b[0;32mindex.pyx:167\u001b[0m, in \u001b[0;36mpandas._libs.index.IndexEngine.get_loc\u001b[0;34m()\u001b[0m\n",
      "File \u001b[0;32mindex.pyx:196\u001b[0m, in \u001b[0;36mpandas._libs.index.IndexEngine.get_loc\u001b[0;34m()\u001b[0m\n",
      "File \u001b[0;32mpandas/_libs/hashtable_class_helper.pxi:7081\u001b[0m, in \u001b[0;36mpandas._libs.hashtable.PyObjectHashTable.get_item\u001b[0;34m()\u001b[0m\n",
      "File \u001b[0;32mpandas/_libs/hashtable_class_helper.pxi:7089\u001b[0m, in \u001b[0;36mpandas._libs.hashtable.PyObjectHashTable.get_item\u001b[0;34m()\u001b[0m\n",
      "\u001b[0;31mKeyError\u001b[0m: 'ОЦЕНКА'",
      "\nThe above exception was the direct cause of the following exception:\n",
      "\u001b[0;31mKeyError\u001b[0m                                  Traceback (most recent call last)",
      "Cell \u001b[0;32mIn[195], line 18\u001b[0m\n\u001b[1;32m      6\u001b[0m pivot_columns \u001b[38;5;241m=\u001b[39m {\n\u001b[1;32m      7\u001b[0m     \u001b[38;5;124m'\u001b[39m\u001b[38;5;124mОЦЕНКА\u001b[39m\u001b[38;5;124m'\u001b[39m: \u001b[38;5;124m'\u001b[39m\u001b[38;5;124mОЦЕНКА_\u001b[39m\u001b[38;5;124m'\u001b[39m,\n\u001b[1;32m      8\u001b[0m     \u001b[38;5;124m'\u001b[39m\u001b[38;5;124mГод\u001b[39m\u001b[38;5;124m'\u001b[39m: \u001b[38;5;124m'\u001b[39m\u001b[38;5;124mГод_\u001b[39m\u001b[38;5;124m'\u001b[39m,\n\u001b[0;32m   (...)\u001b[0m\n\u001b[1;32m     13\u001b[0m     \u001b[38;5;124m'\u001b[39m\u001b[38;5;124mСдал-не-сдал\u001b[39m\u001b[38;5;124m'\u001b[39m: \u001b[38;5;124m'\u001b[39m\u001b[38;5;124mСдал-не-сдал_\u001b[39m\u001b[38;5;124m'\u001b[39m\n\u001b[1;32m     14\u001b[0m }\n\u001b[1;32m     16\u001b[0m \u001b[38;5;66;03m# Create all pivot tables at once\u001b[39;00m\n\u001b[1;32m     17\u001b[0m pivot_tables \u001b[38;5;241m=\u001b[39m {\n\u001b[0;32m---> 18\u001b[0m     prefix: \u001b[43mdf\u001b[49m\u001b[38;5;241;43m.\u001b[39;49m\u001b[43mpivot\u001b[49m\u001b[43m(\u001b[49m\n\u001b[1;32m     19\u001b[0m \u001b[43m        \u001b[49m\u001b[43mindex\u001b[49m\u001b[38;5;241;43m=\u001b[39;49m\u001b[38;5;124;43m'\u001b[39;49m\u001b[38;5;124;43mАдрес электронной почты\u001b[39;49m\u001b[38;5;124;43m'\u001b[39;49m\u001b[43m,\u001b[49m\n\u001b[1;32m     20\u001b[0m \u001b[43m        \u001b[49m\u001b[43mcolumns\u001b[49m\u001b[38;5;241;43m=\u001b[39;49m\u001b[38;5;124;43m'\u001b[39;49m\u001b[38;5;124;43mseq_num\u001b[39;49m\u001b[38;5;124;43m'\u001b[39;49m\u001b[43m,\u001b[49m\n\u001b[1;32m     21\u001b[0m \u001b[43m        \u001b[49m\u001b[43mvalues\u001b[49m\u001b[38;5;241;43m=\u001b[39;49m\u001b[43mcol\u001b[49m\n\u001b[1;32m     22\u001b[0m \u001b[43m    \u001b[49m\u001b[43m)\u001b[49m\u001b[38;5;241m.\u001b[39madd_prefix(prefix)\n\u001b[1;32m     23\u001b[0m     \u001b[38;5;28;01mfor\u001b[39;00m col, prefix \u001b[38;5;129;01min\u001b[39;00m pivot_columns\u001b[38;5;241m.\u001b[39mitems()\n\u001b[1;32m     24\u001b[0m }\n\u001b[1;32m     26\u001b[0m \u001b[38;5;66;03m# Get email metadata (first occurrence for each email)\u001b[39;00m\n\u001b[1;32m     27\u001b[0m email_metadata \u001b[38;5;241m=\u001b[39m df\u001b[38;5;241m.\u001b[39mgroupby(\u001b[38;5;124m'\u001b[39m\u001b[38;5;124mАдрес электронной почты\u001b[39m\u001b[38;5;124m'\u001b[39m)\u001b[38;5;241m.\u001b[39mfirst()\n",
      "File \u001b[0;32m/opt/homebrew/lib/python3.13/site-packages/pandas/core/frame.py:9339\u001b[0m, in \u001b[0;36mDataFrame.pivot\u001b[0;34m(self, columns, index, values)\u001b[0m\n\u001b[1;32m   9332\u001b[0m \u001b[38;5;129m@Substitution\u001b[39m(\u001b[38;5;124m\"\u001b[39m\u001b[38;5;124m\"\u001b[39m)\n\u001b[1;32m   9333\u001b[0m \u001b[38;5;129m@Appender\u001b[39m(_shared_docs[\u001b[38;5;124m\"\u001b[39m\u001b[38;5;124mpivot\u001b[39m\u001b[38;5;124m\"\u001b[39m])\n\u001b[1;32m   9334\u001b[0m \u001b[38;5;28;01mdef\u001b[39;00m \u001b[38;5;21mpivot\u001b[39m(\n\u001b[1;32m   9335\u001b[0m     \u001b[38;5;28mself\u001b[39m, \u001b[38;5;241m*\u001b[39m, columns, index\u001b[38;5;241m=\u001b[39mlib\u001b[38;5;241m.\u001b[39mno_default, values\u001b[38;5;241m=\u001b[39mlib\u001b[38;5;241m.\u001b[39mno_default\n\u001b[1;32m   9336\u001b[0m ) \u001b[38;5;241m-\u001b[39m\u001b[38;5;241m>\u001b[39m DataFrame:\n\u001b[1;32m   9337\u001b[0m     \u001b[38;5;28;01mfrom\u001b[39;00m \u001b[38;5;21;01mpandas\u001b[39;00m\u001b[38;5;21;01m.\u001b[39;00m\u001b[38;5;21;01mcore\u001b[39;00m\u001b[38;5;21;01m.\u001b[39;00m\u001b[38;5;21;01mreshape\u001b[39;00m\u001b[38;5;21;01m.\u001b[39;00m\u001b[38;5;21;01mpivot\u001b[39;00m \u001b[38;5;28;01mimport\u001b[39;00m pivot\n\u001b[0;32m-> 9339\u001b[0m     \u001b[38;5;28;01mreturn\u001b[39;00m \u001b[43mpivot\u001b[49m\u001b[43m(\u001b[49m\u001b[38;5;28;43mself\u001b[39;49m\u001b[43m,\u001b[49m\u001b[43m \u001b[49m\u001b[43mindex\u001b[49m\u001b[38;5;241;43m=\u001b[39;49m\u001b[43mindex\u001b[49m\u001b[43m,\u001b[49m\u001b[43m \u001b[49m\u001b[43mcolumns\u001b[49m\u001b[38;5;241;43m=\u001b[39;49m\u001b[43mcolumns\u001b[49m\u001b[43m,\u001b[49m\u001b[43m \u001b[49m\u001b[43mvalues\u001b[49m\u001b[38;5;241;43m=\u001b[39;49m\u001b[43mvalues\u001b[49m\u001b[43m)\u001b[49m\n",
      "File \u001b[0;32m/opt/homebrew/lib/python3.13/site-packages/pandas/core/reshape/pivot.py:566\u001b[0m, in \u001b[0;36mpivot\u001b[0;34m(data, columns, index, values)\u001b[0m\n\u001b[1;32m    562\u001b[0m         indexed \u001b[38;5;241m=\u001b[39m data\u001b[38;5;241m.\u001b[39m_constructor(\n\u001b[1;32m    563\u001b[0m             data[values]\u001b[38;5;241m.\u001b[39m_values, index\u001b[38;5;241m=\u001b[39mmultiindex, columns\u001b[38;5;241m=\u001b[39mvalues\n\u001b[1;32m    564\u001b[0m         )\n\u001b[1;32m    565\u001b[0m     \u001b[38;5;28;01melse\u001b[39;00m:\n\u001b[0;32m--> 566\u001b[0m         indexed \u001b[38;5;241m=\u001b[39m data\u001b[38;5;241m.\u001b[39m_constructor_sliced(\u001b[43mdata\u001b[49m\u001b[43m[\u001b[49m\u001b[43mvalues\u001b[49m\u001b[43m]\u001b[49m\u001b[38;5;241m.\u001b[39m_values, index\u001b[38;5;241m=\u001b[39mmultiindex)\n\u001b[1;32m    567\u001b[0m \u001b[38;5;66;03m# error: Argument 1 to \"unstack\" of \"DataFrame\" has incompatible type \"Union\u001b[39;00m\n\u001b[1;32m    568\u001b[0m \u001b[38;5;66;03m# [List[Any], ExtensionArray, ndarray[Any, Any], Index, Series]\"; expected\u001b[39;00m\n\u001b[1;32m    569\u001b[0m \u001b[38;5;66;03m# \"Hashable\"\u001b[39;00m\n\u001b[1;32m    570\u001b[0m result \u001b[38;5;241m=\u001b[39m indexed\u001b[38;5;241m.\u001b[39munstack(columns_listlike)  \u001b[38;5;66;03m# type: ignore[arg-type]\u001b[39;00m\n",
      "File \u001b[0;32m/opt/homebrew/lib/python3.13/site-packages/pandas/core/frame.py:4102\u001b[0m, in \u001b[0;36mDataFrame.__getitem__\u001b[0;34m(self, key)\u001b[0m\n\u001b[1;32m   4100\u001b[0m \u001b[38;5;28;01mif\u001b[39;00m \u001b[38;5;28mself\u001b[39m\u001b[38;5;241m.\u001b[39mcolumns\u001b[38;5;241m.\u001b[39mnlevels \u001b[38;5;241m>\u001b[39m \u001b[38;5;241m1\u001b[39m:\n\u001b[1;32m   4101\u001b[0m     \u001b[38;5;28;01mreturn\u001b[39;00m \u001b[38;5;28mself\u001b[39m\u001b[38;5;241m.\u001b[39m_getitem_multilevel(key)\n\u001b[0;32m-> 4102\u001b[0m indexer \u001b[38;5;241m=\u001b[39m \u001b[38;5;28;43mself\u001b[39;49m\u001b[38;5;241;43m.\u001b[39;49m\u001b[43mcolumns\u001b[49m\u001b[38;5;241;43m.\u001b[39;49m\u001b[43mget_loc\u001b[49m\u001b[43m(\u001b[49m\u001b[43mkey\u001b[49m\u001b[43m)\u001b[49m\n\u001b[1;32m   4103\u001b[0m \u001b[38;5;28;01mif\u001b[39;00m is_integer(indexer):\n\u001b[1;32m   4104\u001b[0m     indexer \u001b[38;5;241m=\u001b[39m [indexer]\n",
      "File \u001b[0;32m/opt/homebrew/lib/python3.13/site-packages/pandas/core/indexes/base.py:3812\u001b[0m, in \u001b[0;36mIndex.get_loc\u001b[0;34m(self, key)\u001b[0m\n\u001b[1;32m   3807\u001b[0m     \u001b[38;5;28;01mif\u001b[39;00m \u001b[38;5;28misinstance\u001b[39m(casted_key, \u001b[38;5;28mslice\u001b[39m) \u001b[38;5;129;01mor\u001b[39;00m (\n\u001b[1;32m   3808\u001b[0m         \u001b[38;5;28misinstance\u001b[39m(casted_key, abc\u001b[38;5;241m.\u001b[39mIterable)\n\u001b[1;32m   3809\u001b[0m         \u001b[38;5;129;01mand\u001b[39;00m \u001b[38;5;28many\u001b[39m(\u001b[38;5;28misinstance\u001b[39m(x, \u001b[38;5;28mslice\u001b[39m) \u001b[38;5;28;01mfor\u001b[39;00m x \u001b[38;5;129;01min\u001b[39;00m casted_key)\n\u001b[1;32m   3810\u001b[0m     ):\n\u001b[1;32m   3811\u001b[0m         \u001b[38;5;28;01mraise\u001b[39;00m InvalidIndexError(key)\n\u001b[0;32m-> 3812\u001b[0m     \u001b[38;5;28;01mraise\u001b[39;00m \u001b[38;5;167;01mKeyError\u001b[39;00m(key) \u001b[38;5;28;01mfrom\u001b[39;00m \u001b[38;5;21;01merr\u001b[39;00m\n\u001b[1;32m   3813\u001b[0m \u001b[38;5;28;01mexcept\u001b[39;00m \u001b[38;5;167;01mTypeError\u001b[39;00m:\n\u001b[1;32m   3814\u001b[0m     \u001b[38;5;66;03m# If we have a listlike key, _check_indexing_error will raise\u001b[39;00m\n\u001b[1;32m   3815\u001b[0m     \u001b[38;5;66;03m#  InvalidIndexError. Otherwise we fall through and re-raise\u001b[39;00m\n\u001b[1;32m   3816\u001b[0m     \u001b[38;5;66;03m#  the TypeError.\u001b[39;00m\n\u001b[1;32m   3817\u001b[0m     \u001b[38;5;28mself\u001b[39m\u001b[38;5;241m.\u001b[39m_check_indexing_error(key)\n",
      "\u001b[0;31mKeyError\u001b[0m: 'ОЦЕНКА'"
     ]
    }
   ],
   "source": [
    "# CHANGED BLOCK!!!!\n",
    "\n",
    "# Create base dataframe with sequential counter\n",
    "df = dfs[-1].copy()\n",
    "df['seq_num'] = df.groupby('Адрес электронной почты').cumcount() + 1\n",
    "\n",
    "# Define columns to pivot\n",
    "pivot_columns = {\n",
    "    'ОЦЕНКА': 'ОЦЕНКА_',\n",
    "    'Год': 'Год_',\n",
    "    'Курс': 'Курс_',\n",
    "    'Онлайн-курс': 'Онлайн-курс_',\n",
    "    'ИУС': 'ИУС_',\n",
    "    'Демо-версия': 'Демо-версия_',\n",
    "    'Сдал-не-сдал': 'Сдал-не-сдал_'\n",
    "}\n",
    "\n",
    "# Create all pivot tables at once\n",
    "pivot_tables = {\n",
    "    prefix: df.pivot(\n",
    "        index='Адрес электронной почты',\n",
    "        columns='seq_num',\n",
    "        values=col\n",
    "    ).add_prefix(prefix)\n",
    "    for col, prefix in pivot_columns.items()\n",
    "}\n",
    "\n",
    "# Get email metadata (first occurrence for each email)\n",
    "email_metadata = df.groupby('Адрес электронной почты').first()\n",
    "\n",
    "# Combine all pieces\n",
    "result_df = pd.concat([email_metadata] + list(pivot_tables.values()), axis=1)\n",
    "\n",
    "# Clean up the result\n",
    "columns_to_drop = [\n",
    "    'Группа', 'Курс', 'ОЦЕНКА', 'Год', 'Онлайн-курс', 'ИУС', \n",
    "    'Демо-версия', 'Сдал-не-сдал', 'Сдал/не сдал',\n",
    "    'Больше половины онлайн-курса', 'Чек', 'Оценка за онлайн курс'\n",
    "]\n",
    "result_df = (result_df\n",
    "    .fillna('')\n",
    "    .reset_index()\n",
    "    .drop(columns=columns_to_drop)\n",
    ")"
   ]
  },
  {
   "cell_type": "code",
   "execution_count": 155,
   "metadata": {},
   "outputs": [],
   "source": [
    "old_ie = dfs[-1].copy()\n",
    "dfs[-1] = result_df"
   ]
  },
  {
   "cell_type": "code",
   "execution_count": 156,
   "metadata": {},
   "outputs": [],
   "source": [
    "email_cols = set([\"Адрес электронной почты\", \"Email address\", \"Адрес студенческой почты\", \"Логин\"])\n",
    "\n",
    "for i in range(len(dfs)):\n",
    "    cols = dfs[i].columns.values\n",
    "    if len(email_cols.intersection(cols)) == 0:\n",
    "        print(i, dfs_names[i])\n",
    "        print(cols)\n",
    "        print()"
   ]
  },
  {
   "cell_type": "markdown",
   "metadata": {},
   "source": [
    "Здесь я нашел все колонки, где может быть почта, ведь они могут иметь разные названия в разных таблицах"
   ]
  },
  {
   "cell_type": "code",
   "execution_count": 157,
   "metadata": {},
   "outputs": [],
   "source": [
    "emails = []\n",
    "\n",
    "for i in range(len(dfs)):\n",
    "    for email_col in email_cols:\n",
    "        if email_col in dfs[i].columns.values:\n",
    "            emails.extend(dfs[i][email_col].values)\n",
    "            break"
   ]
  },
  {
   "cell_type": "code",
   "execution_count": 158,
   "metadata": {},
   "outputs": [
    {
     "name": "stdout",
     "output_type": "stream",
     "text": [
      "123452\n",
      "123451 123451\n"
     ]
    }
   ],
   "source": [
    "emails = list(set(emails))\n",
    "print(len(emails))\n",
    "\n",
    "emails = [x for x in emails if isinstance(x, str)]\n",
    "print(len(set(emails)), len(emails))"
   ]
  },
  {
   "cell_type": "markdown",
   "metadata": {},
   "source": [
    "Тут я получил множество всех уникальных почт людей, теперь можно приджойнить все таблицы по почте"
   ]
  },
  {
   "cell_type": "code",
   "execution_count": 159,
   "metadata": {},
   "outputs": [
    {
     "data": {
      "text/html": [
       "<div>\n",
       "<style scoped>\n",
       "    .dataframe tbody tr th:only-of-type {\n",
       "        vertical-align: middle;\n",
       "    }\n",
       "\n",
       "    .dataframe tbody tr th {\n",
       "        vertical-align: top;\n",
       "    }\n",
       "\n",
       "    .dataframe thead th {\n",
       "        text-align: right;\n",
       "    }\n",
       "</style>\n",
       "<table border=\"1\" class=\"dataframe\">\n",
       "  <thead>\n",
       "    <tr style=\"text-align: right;\">\n",
       "      <th></th>\n",
       "      <th>email</th>\n",
       "      <th>Unnamed: 0_Выполнение елементов учебника по АД_нач_англ.csv</th>\n",
       "      <th>Адрес электронной почты_Выполнение елементов учебника по АД_нач_англ.csv</th>\n",
       "      <th>Данные о пользователе_Выполнение елементов учебника по АД_нач_англ.csv</th>\n",
       "      <th>User information_Выполнение елементов учебника по АД_нач_англ.csv</th>\n",
       "      <th>Страна_Выполнение елементов учебника по АД_нач_англ.csv</th>\n",
       "      <th>Forum_Выполнение елементов учебника по АД_нач_англ.csv</th>\n",
       "      <th>Unnamed: 6_Выполнение елементов учебника по АД_нач_англ.csv</th>\n",
       "      <th>Specification of the Independent Data Science Test of Elementary Level_Выполнение елементов учебника по АД_нач_англ.csv</th>\n",
       "      <th>Unnamed: 8_Выполнение елементов учебника по АД_нач_англ.csv</th>\n",
       "      <th>...</th>\n",
       "      <th>Демо-версия_3_НЭ_с_2021я таблица для дэшборда.xlsx</th>\n",
       "      <th>Демо-версия_4_НЭ_с_2021я таблица для дэшборда.xlsx</th>\n",
       "      <th>Демо-версия_5_НЭ_с_2021я таблица для дэшборда.xlsx</th>\n",
       "      <th>Демо-версия_6_НЭ_с_2021я таблица для дэшборда.xlsx</th>\n",
       "      <th>Сдал-не-сдал_1_НЭ_с_2021я таблица для дэшборда.xlsx</th>\n",
       "      <th>Сдал-не-сдал_2_НЭ_с_2021я таблица для дэшборда.xlsx</th>\n",
       "      <th>Сдал-не-сдал_3_НЭ_с_2021я таблица для дэшборда.xlsx</th>\n",
       "      <th>Сдал-не-сдал_4_НЭ_с_2021я таблица для дэшборда.xlsx</th>\n",
       "      <th>Сдал-не-сдал_5_НЭ_с_2021я таблица для дэшборда.xlsx</th>\n",
       "      <th>Сдал-не-сдал_6_НЭ_с_2021я таблица для дэшборда.xlsx</th>\n",
       "    </tr>\n",
       "  </thead>\n",
       "  <tbody>\n",
       "    <tr>\n",
       "      <th>0</th>\n",
       "      <td>aabuinovskaia@edu.hse.ru</td>\n",
       "      <td>NaN</td>\n",
       "      <td>NaN</td>\n",
       "      <td>NaN</td>\n",
       "      <td>NaN</td>\n",
       "      <td>NaN</td>\n",
       "      <td>NaN</td>\n",
       "      <td>NaN</td>\n",
       "      <td>NaN</td>\n",
       "      <td>NaN</td>\n",
       "      <td>...</td>\n",
       "      <td>NaN</td>\n",
       "      <td>NaN</td>\n",
       "      <td>NaN</td>\n",
       "      <td>NaN</td>\n",
       "      <td>NaN</td>\n",
       "      <td>NaN</td>\n",
       "      <td>NaN</td>\n",
       "      <td>NaN</td>\n",
       "      <td>NaN</td>\n",
       "      <td>NaN</td>\n",
       "    </tr>\n",
       "    <tr>\n",
       "      <th>1</th>\n",
       "      <td>aaustinov_2@edu.hse.ru</td>\n",
       "      <td>NaN</td>\n",
       "      <td>NaN</td>\n",
       "      <td>NaN</td>\n",
       "      <td>NaN</td>\n",
       "      <td>NaN</td>\n",
       "      <td>NaN</td>\n",
       "      <td>NaN</td>\n",
       "      <td>NaN</td>\n",
       "      <td>NaN</td>\n",
       "      <td>...</td>\n",
       "      <td>NaN</td>\n",
       "      <td>NaN</td>\n",
       "      <td>NaN</td>\n",
       "      <td>NaN</td>\n",
       "      <td>NaN</td>\n",
       "      <td>NaN</td>\n",
       "      <td>NaN</td>\n",
       "      <td>NaN</td>\n",
       "      <td>NaN</td>\n",
       "      <td>NaN</td>\n",
       "    </tr>\n",
       "    <tr>\n",
       "      <th>2</th>\n",
       "      <td>psoseneva@edu.hse.ru</td>\n",
       "      <td>NaN</td>\n",
       "      <td>NaN</td>\n",
       "      <td>NaN</td>\n",
       "      <td>NaN</td>\n",
       "      <td>NaN</td>\n",
       "      <td>NaN</td>\n",
       "      <td>NaN</td>\n",
       "      <td>NaN</td>\n",
       "      <td>NaN</td>\n",
       "      <td>...</td>\n",
       "      <td></td>\n",
       "      <td></td>\n",
       "      <td></td>\n",
       "      <td></td>\n",
       "      <td>1</td>\n",
       "      <td>0</td>\n",
       "      <td>1</td>\n",
       "      <td></td>\n",
       "      <td></td>\n",
       "      <td></td>\n",
       "    </tr>\n",
       "    <tr>\n",
       "      <th>3</th>\n",
       "      <td>s6569024515@edu.hse.ru</td>\n",
       "      <td>NaN</td>\n",
       "      <td>NaN</td>\n",
       "      <td>NaN</td>\n",
       "      <td>NaN</td>\n",
       "      <td>NaN</td>\n",
       "      <td>NaN</td>\n",
       "      <td>NaN</td>\n",
       "      <td>NaN</td>\n",
       "      <td>NaN</td>\n",
       "      <td>...</td>\n",
       "      <td>NaN</td>\n",
       "      <td>NaN</td>\n",
       "      <td>NaN</td>\n",
       "      <td>NaN</td>\n",
       "      <td>NaN</td>\n",
       "      <td>NaN</td>\n",
       "      <td>NaN</td>\n",
       "      <td>NaN</td>\n",
       "      <td>NaN</td>\n",
       "      <td>NaN</td>\n",
       "    </tr>\n",
       "    <tr>\n",
       "      <th>4</th>\n",
       "      <td>s8591967012@edu.hse.ru</td>\n",
       "      <td>NaN</td>\n",
       "      <td>NaN</td>\n",
       "      <td>NaN</td>\n",
       "      <td>NaN</td>\n",
       "      <td>NaN</td>\n",
       "      <td>NaN</td>\n",
       "      <td>NaN</td>\n",
       "      <td>NaN</td>\n",
       "      <td>NaN</td>\n",
       "      <td>...</td>\n",
       "      <td>NaN</td>\n",
       "      <td>NaN</td>\n",
       "      <td>NaN</td>\n",
       "      <td>NaN</td>\n",
       "      <td>NaN</td>\n",
       "      <td>NaN</td>\n",
       "      <td>NaN</td>\n",
       "      <td>NaN</td>\n",
       "      <td>NaN</td>\n",
       "      <td>NaN</td>\n",
       "    </tr>\n",
       "  </tbody>\n",
       "</table>\n",
       "<p>5 rows × 1516 columns</p>\n",
       "</div>"
      ],
      "text/plain": [
       "                      email  \\\n",
       "0  aabuinovskaia@edu.hse.ru   \n",
       "1    aaustinov_2@edu.hse.ru   \n",
       "2      psoseneva@edu.hse.ru   \n",
       "3    s6569024515@edu.hse.ru   \n",
       "4    s8591967012@edu.hse.ru   \n",
       "\n",
       "  Unnamed: 0_Выполнение елементов учебника по АД_нач_англ.csv  \\\n",
       "0                                                NaN            \n",
       "1                                                NaN            \n",
       "2                                                NaN            \n",
       "3                                                NaN            \n",
       "4                                                NaN            \n",
       "\n",
       "  Адрес электронной почты_Выполнение елементов учебника по АД_нач_англ.csv  \\\n",
       "0                                                NaN                         \n",
       "1                                                NaN                         \n",
       "2                                                NaN                         \n",
       "3                                                NaN                         \n",
       "4                                                NaN                         \n",
       "\n",
       "  Данные о пользователе_Выполнение елементов учебника по АД_нач_англ.csv  \\\n",
       "0                                                NaN                       \n",
       "1                                                NaN                       \n",
       "2                                                NaN                       \n",
       "3                                                NaN                       \n",
       "4                                                NaN                       \n",
       "\n",
       "  User information_Выполнение елементов учебника по АД_нач_англ.csv  \\\n",
       "0                                                NaN                  \n",
       "1                                                NaN                  \n",
       "2                                                NaN                  \n",
       "3                                                NaN                  \n",
       "4                                                NaN                  \n",
       "\n",
       "  Страна_Выполнение елементов учебника по АД_нач_англ.csv  \\\n",
       "0                                                NaN        \n",
       "1                                                NaN        \n",
       "2                                                NaN        \n",
       "3                                                NaN        \n",
       "4                                                NaN        \n",
       "\n",
       "  Forum_Выполнение елементов учебника по АД_нач_англ.csv  \\\n",
       "0                                                NaN       \n",
       "1                                                NaN       \n",
       "2                                                NaN       \n",
       "3                                                NaN       \n",
       "4                                                NaN       \n",
       "\n",
       "  Unnamed: 6_Выполнение елементов учебника по АД_нач_англ.csv  \\\n",
       "0                                                NaN            \n",
       "1                                                NaN            \n",
       "2                                                NaN            \n",
       "3                                                NaN            \n",
       "4                                                NaN            \n",
       "\n",
       "  Specification of the Independent Data Science Test of Elementary Level_Выполнение елементов учебника по АД_нач_англ.csv  \\\n",
       "0                                                NaN                                                                        \n",
       "1                                                NaN                                                                        \n",
       "2                                                NaN                                                                        \n",
       "3                                                NaN                                                                        \n",
       "4                                                NaN                                                                        \n",
       "\n",
       "  Unnamed: 8_Выполнение елементов учебника по АД_нач_англ.csv  ...  \\\n",
       "0                                                NaN           ...   \n",
       "1                                                NaN           ...   \n",
       "2                                                NaN           ...   \n",
       "3                                                NaN           ...   \n",
       "4                                                NaN           ...   \n",
       "\n",
       "  Демо-версия_3_НЭ_с_2021я таблица для дэшборда.xlsx  \\\n",
       "0                                                NaN   \n",
       "1                                                NaN   \n",
       "2                                                      \n",
       "3                                                NaN   \n",
       "4                                                NaN   \n",
       "\n",
       "  Демо-версия_4_НЭ_с_2021я таблица для дэшборда.xlsx  \\\n",
       "0                                                NaN   \n",
       "1                                                NaN   \n",
       "2                                                      \n",
       "3                                                NaN   \n",
       "4                                                NaN   \n",
       "\n",
       "  Демо-версия_5_НЭ_с_2021я таблица для дэшборда.xlsx  \\\n",
       "0                                                NaN   \n",
       "1                                                NaN   \n",
       "2                                                      \n",
       "3                                                NaN   \n",
       "4                                                NaN   \n",
       "\n",
       "  Демо-версия_6_НЭ_с_2021я таблица для дэшборда.xlsx  \\\n",
       "0                                                NaN   \n",
       "1                                                NaN   \n",
       "2                                                      \n",
       "3                                                NaN   \n",
       "4                                                NaN   \n",
       "\n",
       "  Сдал-не-сдал_1_НЭ_с_2021я таблица для дэшборда.xlsx  \\\n",
       "0                                                NaN    \n",
       "1                                                NaN    \n",
       "2                                                  1    \n",
       "3                                                NaN    \n",
       "4                                                NaN    \n",
       "\n",
       "  Сдал-не-сдал_2_НЭ_с_2021я таблица для дэшборда.xlsx  \\\n",
       "0                                                NaN    \n",
       "1                                                NaN    \n",
       "2                                                  0    \n",
       "3                                                NaN    \n",
       "4                                                NaN    \n",
       "\n",
       "  Сдал-не-сдал_3_НЭ_с_2021я таблица для дэшборда.xlsx  \\\n",
       "0                                                NaN    \n",
       "1                                                NaN    \n",
       "2                                                  1    \n",
       "3                                                NaN    \n",
       "4                                                NaN    \n",
       "\n",
       "  Сдал-не-сдал_4_НЭ_с_2021я таблица для дэшборда.xlsx  \\\n",
       "0                                                NaN    \n",
       "1                                                NaN    \n",
       "2                                                       \n",
       "3                                                NaN    \n",
       "4                                                NaN    \n",
       "\n",
       "  Сдал-не-сдал_5_НЭ_с_2021я таблица для дэшборда.xlsx  \\\n",
       "0                                                NaN    \n",
       "1                                                NaN    \n",
       "2                                                       \n",
       "3                                                NaN    \n",
       "4                                                NaN    \n",
       "\n",
       "  Сдал-не-сдал_6_НЭ_с_2021я таблица для дэшборда.xlsx  \n",
       "0                                                NaN   \n",
       "1                                                NaN   \n",
       "2                                                      \n",
       "3                                                NaN   \n",
       "4                                                NaN   \n",
       "\n",
       "[5 rows x 1516 columns]"
      ]
     },
     "execution_count": 159,
     "metadata": {},
     "output_type": "execute_result"
    }
   ],
   "source": [
    "df_all = pd.DataFrame(emails, columns=[\"email\"])\n",
    "\n",
    "for i in range(len(dfs)):\n",
    "    for email_col in email_cols:\n",
    "        if email_col in dfs[i].columns.values:\n",
    "            df_renamed = dfs[i].copy()\n",
    "            df_renamed.rename(columns={col: f\"{col}_{dfs_names[i]}\" for col in dfs[i].columns.values}, inplace=True)\n",
    "\n",
    "            df_all = pd.merge(df_all, df_renamed,\n",
    "                                left_on='email',\n",
    "                                right_on=email_col + \"_\" + dfs_names[i],\n",
    "                                how='left',\n",
    "                                suffixes=('_df1', '_df2'))\n",
    "            if len(df_all['email'].unique().tolist()) != len(df_all['email'].tolist()):\n",
    "                print(\"Duplicate emails!!!\")\n",
    "            break\n",
    "\n",
    "\n",
    "df_all.head()"
   ]
  },
  {
   "cell_type": "code",
   "execution_count": 160,
   "metadata": {},
   "outputs": [
    {
     "data": {
      "text/plain": [
       "array([], dtype=object)"
      ]
     },
     "execution_count": 160,
     "metadata": {},
     "output_type": "execute_result"
    }
   ],
   "source": [
    "df_all[df_all['email'].duplicated()]['email'].unique()\n",
    "# df_all[df_all['email'] == 'psoseneva@edu.hse.ru']"
   ]
  },
  {
   "cell_type": "markdown",
   "metadata": {},
   "source": [
    "здесь я удалю все колонки, где нет имени"
   ]
  },
  {
   "cell_type": "code",
   "execution_count": 161,
   "metadata": {},
   "outputs": [
    {
     "name": "stdout",
     "output_type": "stream",
     "text": [
      "1102\n"
     ]
    }
   ],
   "source": [
    "df_all.drop([col for col in df_all.columns.values if 'Unnamed' in col], axis=1, inplace=True)\n",
    "print(len(list(df_all.columns.values)))"
   ]
  },
  {
   "cell_type": "markdown",
   "metadata": {},
   "source": [
    "здесь я выделил все колонки, где есть полезная информация\n"
   ]
  },
  {
   "cell_type": "code",
   "execution_count": 163,
   "metadata": {},
   "outputs": [
    {
     "data": {
      "text/plain": [
       "(123451, 766)"
      ]
     },
     "execution_count": 163,
     "metadata": {},
     "output_type": "execute_result"
    }
   ],
   "source": [
    "col_patterns = ['test', 'тест', 'оценка', 'variant', 'вариант', 'practice', 'hypothesis', 'практика'\n",
    "             'гипотеза', 'задание', 'task', 'самопроверка', 'лекция', 'инструмент', 'видео', \n",
    "             'глава', 'quiz', 'норм', 'сумма', 'перцентиль', 'балл', 'место', 'course', ]\n",
    "\n",
    "used_cols = [col for col in df_all.columns.values if any([pat in col.lower() for pat in col_patterns])]\n",
    "\n",
    "df_used = df_all[used_cols + ['email']]\n",
    "df_used.shape"
   ]
  },
  {
   "cell_type": "markdown",
   "metadata": {},
   "source": [
    "Тут я прохожусь по всем значениям большой таблицы и пытаюсь преобзовать их в числа для дальнейшего обучения модели"
   ]
  },
  {
   "cell_type": "code",
   "execution_count": 164,
   "metadata": {},
   "outputs": [],
   "source": [
    "for x in df_used.drop(columns=['email'], inplace=False).values.flatten().tolist():\n",
    "    if isinstance(x, float):\n",
    "        continue\n",
    "    if isinstance(x, str) and x == '':\n",
    "        continue\n",
    "    if isinstance(x, str) and '/' in x:    \n",
    "        a, b = x.split('/')\n",
    "        a, b = a.strip(), b.strip()\n",
    "        try:\n",
    "            if a.lower() == 'null' or b.lower() == 'null':\n",
    "                c = 1\n",
    "            else:\n",
    "                c = float(a) / float(b)\n",
    "        except Exception as e:\n",
    "            print(e, x)\n",
    "        continue\n",
    "    if x in ['Выполнено', 'Не выполнено', '-']:\n",
    "        continue\n",
    "    try:\n",
    "        if isinstance(x, str):\n",
    "            x = x.replace(',', '.')\n",
    "        x = float(x)\n",
    "    except Exception as e:\n",
    "        print(e, x)"
   ]
  },
  {
   "cell_type": "code",
   "execution_count": 165,
   "metadata": {},
   "outputs": [
    {
     "data": {
      "text/plain": [
       "(123451, 766)"
      ]
     },
     "execution_count": 165,
     "metadata": {},
     "output_type": "execute_result"
    }
   ],
   "source": [
    "import math\n",
    "\n",
    "def process_value(x):\n",
    "    if type(x) == float and math.isnan(x):\n",
    "        return 0\n",
    "\n",
    "    if isinstance(x, float):\n",
    "        return x\n",
    "    if isinstance(x, str) and x == '':\n",
    "        return 0\n",
    "    if isinstance(x, str) and '/' in x:\n",
    "        a, b = x.split('/')\n",
    "        a, b = a.strip(), b.strip()\n",
    "        if a.lower() == 'null' or b.lower() == 'null':\n",
    "            return 1.0\n",
    "        return float(a) / float(b)\n",
    "    \n",
    "    if isinstance(x, str):\n",
    "        if x.lower() == 'выполнено':\n",
    "            return 1.0\n",
    "        elif x.lower() in ['не выполнено', '-']:\n",
    "            return 0.0\n",
    "        x = x.replace(',', '.')\n",
    "    \n",
    "    return float(x)\n",
    "\n",
    "processed_df = df_used.drop(columns=['email'], inplace=False).apply(lambda x: x.apply(process_value))\n",
    "processed_df['email'] = df_used['email']\n",
    "processed_df.shape"
   ]
  },
  {
   "cell_type": "markdown",
   "metadata": {},
   "source": [
    "Теперь в таблице processed_df все значения преобразованы в числа и можно обучать модель, но для начала нужно разделить данные на тренировочную и тестовую выборки\n"
   ]
  },
  {
   "cell_type": "markdown",
   "metadata": {},
   "source": [
    "Из текущего датасета нужно вытащить целевую переменную, остальное берем как признаковое описание.\n",
    "Таргетом будет оценка за независимый экзамен, поэтому будем использовать лишь множество почт из этой таблицы (НЭ_с_2021я таблика для дэщборда.xlsx)"
   ]
  },
  {
   "cell_type": "code",
   "execution_count": 167,
   "metadata": {},
   "outputs": [],
   "source": [
    "with open(\"info/processed_columns_info.txt\", \"w\", encoding='utf-8') as fout:\n",
    "    fout.write(f\"Total number of columns: {len(processed_df.columns)}\\n\\n\")\n",
    "    fout.write(\"Columns:\\n\")\n",
    "    for i, col in enumerate(processed_df.columns, 1):\n",
    "        fout.write(f\"{i}. {col}\\n\")"
   ]
  },
  {
   "cell_type": "markdown",
   "metadata": {},
   "source": [
    "Нашел ее название в общей таблице - \"ОЦЕНКА_{год обучения}_НЭ_с_2021я таблица для дэшборда.xlsx\", значит нужно завести новую колонку target, которая будет отвечать за последную оценку студента по НЭ.\n",
    "И не забудем ограничить датасет по почтам, для которых мы знаем таргет."
   ]
  },
  {
   "cell_type": "code",
   "execution_count": null,
   "metadata": {},
   "outputs": [
    {
     "name": "stdout",
     "output_type": "stream",
     "text": [
      "(28112, 767)\n"
     ]
    }
   ],
   "source": [
    "import pandas as pd\n",
    "\n",
    "# Get all grade columns\n",
    "grade_cols = [f'ОЦЕНКА_{i}_НЭ_с_2021я таблица для дэшборда.xlsx' for i in range(1, 7)]\n",
    "\n",
    "# Create grade_last column by checking each grade column from right to left\n",
    "processed_df['target'] = processed_df[grade_cols].replace(0, np.nan).ffill(axis=1).iloc[:, -1]\n",
    "processed_df = processed_df[processed_df['target'].notna()]\n",
    "print(processed_df.shape)"
   ]
  },
  {
   "cell_type": "code",
   "execution_count": null,
   "metadata": {},
   "outputs": [
    {
     "data": {
      "text/plain": [
       "(28112, 767)"
      ]
     },
     "execution_count": 170,
     "metadata": {},
     "output_type": "execute_result"
    }
   ],
   "source": [
    "valid_emails = set(pd.read_excel(\"Проект/НЭ_с_2021я таблица для дэшборда.xlsx\")[\"Адрес электронной почты\"].values)\n",
    "print(len(valid_emails))\n",
    "\n",
    "filtered_df = processed_df[processed_df['email'].isin(valid_emails)]\n",
    "filtered_df.shape"
   ]
  },
  {
   "cell_type": "markdown",
   "metadata": {},
   "source": [
    "Для начала предположим, что время для нас не особо влияет (год сдачи теста / экзамена), важно лишь сдал ли его студент или нет, то есть учитывать будем лишь \"знания человека\". При таком принципе можно поделить датасет случайно в пропорции 70/30 и замерить качество в предсказании целевой переменной (итоговой экзамен)."
   ]
  },
  {
   "cell_type": "markdown",
   "metadata": {},
   "source": [
    "Для начала давайте обучим бейзлайн модель, с которой будем сравнивать результаты. Давайте вспомним, что в данной задаче нам нужно максимизировать recall, то есть добиться максимального покрытия множество людей, которые не сдадут экзамен, ведь наше дело предупредить студента или его учителя, что есть проблемы с изучением курса, а если мы посоветуем дополнительные занятия человека, который и без них бы сдал экзамен, то ничего плохого не произойдет."
   ]
  },
  {
   "cell_type": "code",
   "execution_count": 171,
   "metadata": {},
   "outputs": [
    {
     "name": "stdout",
     "output_type": "stream",
     "text": [
      "[dtype('float64')] float64\n"
     ]
    }
   ],
   "source": [
    "int_cols = filtered_df.select_dtypes(include=['int64']).columns\n",
    "filtered_df[int_cols] = filtered_df[int_cols].astype('float64')\n",
    "\n",
    "X = filtered_df.drop(columns=['email', 'target'] + grade_cols)\n",
    "y = filtered_df['target']\n",
    "\n",
    "print(X.dtypes.unique(), y.dtypes)"
   ]
  },
  {
   "cell_type": "code",
   "execution_count": 172,
   "metadata": {},
   "outputs": [
    {
     "data": {
      "image/png": "[encoded data removed]",
      "text/plain": [
       "<Figure size 900x700 with 1 Axes>"
      ]
     },
     "metadata": {},
     "output_type": "display_data"
    }
   ],
   "source": [
    "from matplotlib import pyplot as plt\n",
    "import seaborn as sns\n",
    "\n",
    "plt.figure(figsize=(9, 7))\n",
    "plt.hist(y, bins=10)\n",
    "plt.xticks(np.arange(1, 11, 1))\n",
    "plt.show()\n"
   ]
  },
  {
   "cell_type": "markdown",
   "metadata": {},
   "source": [
    "Распределение целевой переменной ожидаемое, имеет среднее 6-7, больше смещено в сторону 5+"
   ]
  },
  {
   "cell_type": "markdown",
   "metadata": {},
   "source": [
    "На данный момент получили обучающую выборку, теперь нужно разделить ее на тренировочную и тестовую в пропорции 70/30 и замерить качество на разных моделях."
   ]
  },
  {
   "cell_type": "code",
   "execution_count": 173,
   "metadata": {},
   "outputs": [
    {
     "name": "stdout",
     "output_type": "stream",
     "text": [
      "(19678, 759) (19678,)\n",
      "(8434, 759) (8434,)\n"
     ]
    }
   ],
   "source": [
    "from sklearn.model_selection import train_test_split\n",
    "\n",
    "X_train, X_test, y_train, y_test = train_test_split(X, y, test_size=0.3, random_state=42)\n",
    "print(X_train.shape, y_train.shape)\n",
    "print(X_test.shape, y_test.shape)"
   ]
  },
  {
   "cell_type": "markdown",
   "metadata": {},
   "source": [
    "Теперь займемся обучением моделей и замером качества, измерять качество будем по RMSE, чтобы знать среднее отклонение предсказаний от истинных значений. "
   ]
  },
  {
   "cell_type": "markdown",
   "metadata": {},
   "source": [
    "Начнем с линейной регрессии, только не забудем нормализовать признаки."
   ]
  },
  {
   "cell_type": "code",
   "execution_count": 174,
   "metadata": {},
   "outputs": [
    {
     "name": "stdout",
     "output_type": "stream",
     "text": [
      "Training RMSE: 1.7386\n",
      "Test RMSE: 1.7915\n",
      "\n",
      "Feature Coefficients:\n",
      "                                               Feature  Coefficient\n",
      "539             Место в кампусе_Рейтинг 23-24 года.csv     6.124167\n",
      "752                  Перцентиль_Рейтинг 21-22 года.csv     5.292704\n",
      "24   Итоговая оценка за курс (Значение)_Курс подгот...     3.629707\n",
      "360  Итоговая оценка за курс (Значение)_Курс подгот...     2.669379\n",
      "739                  Перцентиль_Рейтинг 22-23 года.csv     2.233789\n",
      "755                 Место на ОП_Рейтинг 21-22 года.csv     1.871596\n",
      "733                    КР сумма_Рейтинг 22-23 года.csv     1.306099\n",
      "753              Средняя оценка_Рейтинг 21-22 года.csv     1.159205\n",
      "532                Норм коэф ГР_Рейтинг 23-24 года.csv     0.546546\n",
      "576          Балл ЕГЭ_Выгрузка по ЕГЭ с 2020 года.xlsx     0.391131\n"
     ]
    }
   ],
   "source": [
    "from sklearn.preprocessing import StandardScaler\n",
    "from sklearn.linear_model import LinearRegression\n",
    "from sklearn.metrics import mean_squared_error\n",
    "import numpy as np\n",
    "\n",
    "# Initialize the scaler\n",
    "scaler = StandardScaler()\n",
    "\n",
    "# Fit scaler on training data and transform both training and test data\n",
    "X_train_scaled = scaler.fit_transform(X_train)\n",
    "X_test_scaled = scaler.transform(X_test)\n",
    "\n",
    "# Initialize and train the model\n",
    "model = LinearRegression()\n",
    "model.fit(X_train_scaled, y_train)\n",
    "\n",
    "# Make predictions\n",
    "y_pred_train = model.predict(X_train_scaled)\n",
    "y_pred_test = model.predict(X_test_scaled)\n",
    "\n",
    "# Calculate RMSE for both training and test sets\n",
    "rmse_train = np.sqrt(mean_squared_error(y_train, y_pred_train))\n",
    "rmse_test = np.sqrt(mean_squared_error(y_test, y_pred_test))\n",
    "\n",
    "print(f'Training RMSE: {rmse_train:.4f}')\n",
    "print(f'Test RMSE: {rmse_test:.4f}')\n",
    "\n",
    "# Optional: Print feature coefficients\n",
    "feature_importance = pd.DataFrame({\n",
    "    'Feature': X_train.columns,\n",
    "    'Coefficient': model.coef_\n",
    "}).sort_values('Coefficient', key=lambda x: x, ascending=False).head(10)\n",
    "print('\\nFeature Coefficients:')\n",
    "print(feature_importance)"
   ]
  },
  {
   "cell_type": "markdown",
   "metadata": {},
   "source": [
    "Теперь сразу попробуем обучить сильную модель - градиентный бустинг, посмотрим на сколько улучшится качество"
   ]
  },
  {
   "cell_type": "code",
   "execution_count": 179,
   "metadata": {},
   "outputs": [
    {
     "data": {
      "image/png": "[encoded data removed]",
      "text/plain": [
       "<Figure size 1000x600 with 1 Axes>"
      ]
     },
     "metadata": {},
     "output_type": "display_data"
    },
    {
     "name": "stdout",
     "output_type": "stream",
     "text": [
      "\n",
      "Feature Importances:\n",
      "                                               Feature  Importance\n",
      "576          Балл ЕГЭ_Выгрузка по ЕГЭ с 2020 года.xlsx    0.252301\n",
      "753              Средняя оценка_Рейтинг 21-22 года.csv    0.161389\n",
      "116  Итоговая оценка за курс (Значение)_ЦГ_Учебник ...    0.107101\n",
      "48   Тест:Случайный вариант из Открытого банка (Зна...    0.065126\n",
      "67   Тест:Выписка заданий №11: Большие данные. (Зна...    0.037617\n",
      "756             Место в кампусе_Рейтинг 21-22 года.csv    0.036375\n",
      "740              Средняя оценка_Рейтинг 22-23 года.csv    0.035635\n",
      "733                    КР сумма_Рейтинг 22-23 года.csv    0.025649\n",
      "752                  Перцентиль_Рейтинг 21-22 года.csv    0.024291\n",
      "378  Тест:Тема 2. Задачи для самопроверки — 1 (Знач...    0.015894\n",
      "\n",
      "Final Training RMSE: 1.7715\n",
      "Final Test RMSE: 1.7863\n"
     ]
    }
   ],
   "source": [
    "from sklearn.ensemble import GradientBoostingRegressor\n",
    "from sklearn.metrics import mean_squared_error\n",
    "import numpy as np\n",
    "import matplotlib.pyplot as plt\n",
    "\n",
    "# Initialize model\n",
    "gb_model = GradientBoostingRegressor(\n",
    "    n_estimators=300,        # number of trees\n",
    "    learning_rate=0.01,       # shrinkage rate\n",
    "    # max_depth=3,            # depth of each tree\n",
    "    # subsample=0.8,          # fraction of samples for each tree\n",
    "    # random_state=42,\n",
    "    # validation_fraction=0.1  # fraction of training data to use for early stopping\n",
    ")\n",
    "\n",
    "# Train model and store losses\n",
    "gb_model.fit(X_train_scaled, y_train)\n",
    "\n",
    "# Get staged predictions and calculate RMSE for each stage\n",
    "train_losses = []\n",
    "test_losses = []\n",
    "\n",
    "for y_train_pred in gb_model.staged_predict(X_train_scaled):\n",
    "    train_losses.append(np.sqrt(mean_squared_error(y_train, y_train_pred)))\n",
    "    \n",
    "for y_test_pred in gb_model.staged_predict(X_test_scaled):\n",
    "    test_losses.append(np.sqrt(mean_squared_error(y_test, y_test_pred)))\n",
    "\n",
    "# Plot learning curves\n",
    "plt.figure(figsize=(10, 6))\n",
    "plt.plot(train_losses, label='Training RMSE', color='blue')\n",
    "plt.plot(test_losses, label='Test RMSE', color='red')\n",
    "plt.xlabel('Number of Trees')\n",
    "plt.ylabel('RMSE')\n",
    "plt.title('Gradient Boosting Learning Curve')\n",
    "plt.legend()\n",
    "plt.grid(True)\n",
    "plt.show()\n",
    "\n",
    "# Print feature importances\n",
    "feature_importance = pd.DataFrame({\n",
    "    'Feature': X_train.columns,\n",
    "    'Importance': gb_model.feature_importances_\n",
    "}).sort_values('Importance', ascending=False).head(10)\n",
    "\n",
    "print(\"\\nFeature Importances:\")\n",
    "print(feature_importance)\n",
    "\n",
    "# Make final predictions\n",
    "y_pred_train = gb_model.predict(X_train_scaled)\n",
    "y_pred_test = gb_model.predict(X_test_scaled)\n",
    "\n",
    "print(f\"\\nFinal Training RMSE: {np.sqrt(mean_squared_error(y_train, y_pred_train)):.4f}\")\n",
    "print(f\"Final Test RMSE: {np.sqrt(mean_squared_error(y_test, y_pred_test)):.4f}\")"
   ]
  },
  {
   "cell_type": "markdown",
   "metadata": {},
   "source": [
    "Попробуем обучится на лимитированном пуле фичей, на данный момент их слишком много, а пропусков еще больше"
   ]
  },
  {
   "cell_type": "code",
   "execution_count": 187,
   "metadata": {},
   "outputs": [],
   "source": [
    "non_zero_counts = (X_train != 0).sum()\n",
    "top_features = non_zero_counts.sort_values(ascending=False).head(50)\n",
    "top_features.index.tolist()\n",
    "\n",
    "X_train_lim = X_train[top_features.index.tolist()]\n",
    "X_test_lim = X_test[top_features.index.tolist()]"
   ]
  },
  {
   "cell_type": "code",
   "execution_count": 189,
   "metadata": {},
   "outputs": [
    {
     "data": {
      "image/png": "[encoded data removed]",
      "text/plain": [
       "<Figure size 1000x600 with 1 Axes>"
      ]
     },
     "metadata": {},
     "output_type": "display_data"
    },
    {
     "name": "stdout",
     "output_type": "stream",
     "text": [
      "\n",
      "Feature Importances:\n",
      "                                              Feature  Importance\n",
      "0           Балл ЕГЭ_Выгрузка по ЕГЭ с 2020 года.xlsx    0.279761\n",
      "34              Средняя оценка_Рейтинг 21-22 года.csv    0.178595\n",
      "1   Итоговая оценка за курс (Значение)_ЦГ_Учебник ...    0.147372\n",
      "47  Тест:Случайный вариант из Открытого банка (Зна...    0.097171\n",
      "28             Место в кампусе_Рейтинг 21-22 года.csv    0.041054\n",
      "22              Средняя оценка_Рейтинг 22-23 года.csv    0.036711\n",
      "45  Тест:1.4 Задачи для тренировки (Значение)_Учеб...    0.032637\n",
      "21                    КР сумма_Рейтинг 22-23 года.csv    0.029377\n",
      "37                  Перцентиль_Рейтинг 21-22 года.csv    0.025519\n",
      "27           Место на Курсе-ОП_Рейтинг 21-22 года.csv    0.018074\n",
      "\n",
      "Final Training RMSE: 1.7881\n",
      "Final Test RMSE: 1.8013\n"
     ]
    }
   ],
   "source": [
    "from sklearn.ensemble import GradientBoostingRegressor\n",
    "from sklearn.metrics import mean_squared_error\n",
    "import numpy as np\n",
    "import matplotlib.pyplot as plt\n",
    "\n",
    "scaler = StandardScaler()\n",
    "\n",
    "# Fit scaler on training data and transform both training and test data\n",
    "X_train_lim_scaled = scaler.fit_transform(X_train_lim)\n",
    "X_test_lim_scaled = scaler.transform(X_test_lim)\n",
    "\n",
    "# Initialize model\n",
    "gb_model = GradientBoostingRegressor(\n",
    "    n_estimators=300,        # number of trees\n",
    "    learning_rate=0.01,       # shrinkage rate\n",
    "    # max_depth=3,            # depth of each tree\n",
    "    # subsample=0.8,          # fraction of samples for each tree\n",
    "    # random_state=42,\n",
    "    # validation_fraction=0.1  # fraction of training data to use for early stopping\n",
    ")\n",
    "\n",
    "# Train model and store losses\n",
    "gb_model.fit(X_train_lim_scaled, y_train)\n",
    "\n",
    "# Get staged predictions and calculate RMSE for each stage\n",
    "train_losses = []\n",
    "test_losses = []\n",
    "\n",
    "for y_train_pred in gb_model.staged_predict(X_train_lim_scaled):\n",
    "    train_losses.append(np.sqrt(mean_squared_error(y_train, y_train_pred)))\n",
    "    \n",
    "for y_test_pred in gb_model.staged_predict(X_test_lim_scaled):\n",
    "    test_losses.append(np.sqrt(mean_squared_error(y_test, y_test_pred)))\n",
    "\n",
    "# Plot learning curves\n",
    "plt.figure(figsize=(10, 6))\n",
    "plt.plot(train_losses, label='Training RMSE', color='blue')\n",
    "plt.plot(test_losses, label='Test RMSE', color='red')\n",
    "plt.xlabel('Number of Trees')\n",
    "plt.ylabel('RMSE')\n",
    "plt.title('Gradient Boosting Learning Curve')\n",
    "plt.legend()\n",
    "plt.grid(True)\n",
    "plt.show()\n",
    "\n",
    "# Print feature importances\n",
    "feature_importance = pd.DataFrame({\n",
    "    'Feature': X_train_lim.columns,\n",
    "    'Importance': gb_model.feature_importances_\n",
    "}).sort_values('Importance', ascending=False).head(10)\n",
    "\n",
    "print(\"\\nFeature Importances:\")\n",
    "print(feature_importance)\n",
    "\n",
    "# Make final predictions\n",
    "y_pred_train = gb_model.predict(X_train_lim_scaled)\n",
    "y_pred_test = gb_model.predict(X_test_lim_scaled)\n",
    "\n",
    "print(f\"\\nFinal Training RMSE: {np.sqrt(mean_squared_error(y_train, y_pred_train)):.4f}\")\n",
    "print(f\"Final Test RMSE: {np.sqrt(mean_squared_error(y_test, y_pred_test)):.4f}\")"
   ]
  },
  {
   "cell_type": "markdown",
   "metadata": {},
   "source": [
    "Получилось не лучше, поэтому можем оставить весь список признаков"
   ]
  },
  {
   "cell_type": "markdown",
   "metadata": {},
   "source": [
    "Еще один подход, который можно использовать, это использовать классификацию, то есть предсказывать не оценку, а факт сдачи экзамена. Для этого нужно будет перевести целевую переменную в бинарную, сделаем для этого `binary_target = (target < 4)`, то есть не сдавшие экзамен будут считаться положительными примерами, а не сдавшие - отрицательными."
   ]
  },
  {
   "cell_type": "code",
   "execution_count": 193,
   "metadata": {},
   "outputs": [],
   "source": [
    "y_train_binary = (y_train < 4)\n",
    "y_test_binary = (y_test < 4)"
   ]
  },
  {
   "cell_type": "code",
   "execution_count": 194,
   "metadata": {},
   "outputs": [
    {
     "name": "stdout",
     "output_type": "stream",
     "text": [
      "Training metrics:\n",
      "Precision: 0.6761\n",
      "Recall: 0.0657\n",
      "AUC: 0.7750\n",
      "\n",
      "Test metrics:\n",
      "Precision: 0.2893\n",
      "Recall: 0.0367\n",
      "AUC: 0.7068\n"
     ]
    },
    {
     "data": {
      "image/png": "[encoded data removed]",
      "text/plain": [
       "<Figure size 800x600 with 2 Axes>"
      ]
     },
     "metadata": {},
     "output_type": "display_data"
    },
    {
     "name": "stdout",
     "output_type": "stream",
     "text": [
      "\n",
      "Top 10 Most Important Features:\n",
      "                                               Feature  Coefficient\n",
      "729  Видео | Excel: тепловые карты_Выполнение елеме...     0.901164\n",
      "707  Видео | Excel: линейная регрессия — 2_Выполнен...     0.729750\n",
      "242  Видео | Python: корреляция_Выполнение елементо...     0.720062\n",
      "294  Видео | Excel: рассчитываем t-тест —2_Выполнен...     0.601084\n",
      "753              Средняя оценка_Рейтинг 21-22 года.csv     0.599985\n",
      "690  Видео | Python: разведочный анализ данных — 1_...     0.594591\n",
      "702  Видео | Теория: множественная линейная регресс...     0.569723\n",
      "280  Видео | Python: рассчитываем критерий хи-квадр...     0.565434\n",
      "531             КРгр сумма норм_Рейтинг 23-24 года.csv     0.565421\n",
      "727  Видео | Excel: разведочный анализ_Выполнение е...     0.549490\n"
     ]
    }
   ],
   "source": [
    "from sklearn.linear_model import LogisticRegression\n",
    "from sklearn.metrics import precision_score, recall_score, roc_auc_score, confusion_matrix\n",
    "import seaborn as sns\n",
    "import matplotlib.pyplot as plt\n",
    "\n",
    "# Initialize and train logistic regression\n",
    "lr_model = LogisticRegression(random_state=42, max_iter=1000)\n",
    "lr_model.fit(X_train_scaled, y_train_binary)\n",
    "\n",
    "# Make predictions\n",
    "y_pred_train_binary = lr_model.predict(X_train_scaled)\n",
    "y_pred_test_binary = lr_model.predict(X_test_scaled)\n",
    "\n",
    "# Get probability predictions for AUC\n",
    "y_pred_train_proba = lr_model.predict_proba(X_train_scaled)[:, 1]\n",
    "y_pred_test_proba = lr_model.predict_proba(X_test_scaled)[:, 1]\n",
    "\n",
    "# Calculate metrics\n",
    "print(\"Training metrics:\")\n",
    "print(f\"Precision: {precision_score(y_train_binary, y_pred_train_binary):.4f}\")\n",
    "print(f\"Recall: {recall_score(y_train_binary, y_pred_train_binary):.4f}\")\n",
    "print(f\"AUC: {roc_auc_score(y_train_binary, y_pred_train_proba):.4f}\")\n",
    "\n",
    "print(\"\\nTest metrics:\")\n",
    "print(f\"Precision: {precision_score(y_test_binary, y_pred_test_binary):.4f}\")\n",
    "print(f\"Recall: {recall_score(y_test_binary, y_pred_test_binary):.4f}\")\n",
    "print(f\"AUC: {roc_auc_score(y_test_binary, y_pred_test_proba):.4f}\")\n",
    "\n",
    "# Plot confusion matrix for test set\n",
    "plt.figure(figsize=(8, 6))\n",
    "cm = confusion_matrix(y_test_binary, y_pred_test_binary)\n",
    "sns.heatmap(cm, annot=True, fmt='d', cmap='Blues')\n",
    "plt.title('Confusion Matrix (Test Set)')\n",
    "plt.ylabel('True Label')\n",
    "plt.xlabel('Predicted Label')\n",
    "plt.show()\n",
    "\n",
    "# Print feature importances\n",
    "feature_importance = pd.DataFrame({\n",
    "    'Feature': X_train.columns,\n",
    "    'Coefficient': abs(lr_model.coef_[0])\n",
    "}).sort_values('Coefficient', ascending=False).head(10)\n",
    "\n",
    "print(\"\\nTop 10 Most Important Features:\")\n",
    "print(feature_importance)"
   ]
  },
  {
   "cell_type": "markdown",
   "metadata": {},
   "source": [
    "Из-за большого дисбаланса классов модель не может выучить закономерности положительного класса, нужно больше примеров"
   ]
  }
 ],
 "metadata": {
  "kernelspec": {
   "display_name": "Python 3",
   "language": "python",
   "name": "python3"
  },
  "language_info": {
   "codemirror_mode": {
    "name": "ipython",
    "version": 3
   },
   "file_extension": ".py",
   "mimetype": "text/x-python",
   "name": "python",
   "nbconvert_exporter": "python",
   "pygments_lexer": "ipython3",
   "version": "3.13.1"
  }
 },
 "nbformat": 4,
 "nbformat_minor": 2
}
